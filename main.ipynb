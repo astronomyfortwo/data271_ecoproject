{
 "cells": [
  {
   "cell_type": "markdown",
   "id": "902281b6",
   "metadata": {},
   "source": [
    "# Project: Marsh Restoration with Otters"
   ]
  },
  {
   "cell_type": "markdown",
   "id": "ea88b1d9",
   "metadata": {},
   "source": [
    "### Context:\n",
    "By 1911, sea otters (*Enhydra lutris*) were on the brink of local extinction across California and Oregon due to fur hunting. One or two small populations managed to survive, and numerous organizations have been working together over the past 50 or so years to protect sea otters and help increase their numbers. This prominently includes the Monterey Bay Aquarium and the associated MBARI. The Monterey Bay Aquarium specifically has a program to rescue injured or orphaned otter pups and raise them with foster mothers (that have been deemed unreleasable). For many years, MBA chose to release otters that had ‘graduated’ from this program into Elkhorn Slough, right in the center of Monterey Bay, due to its relative shelter from tidal action and other factors. As the foster program continued to release otters into the slough over several decades, the otter population in the slough grew from ‘an itinerant bachelor population’ to a large, thriving population – I’ve gone kayaking in the slough myself, and there are indeed many, many otters! As the otter population grew, the ecosystem of the slough became more healthy, stable, and biodiverse. A recent study has shown that the reestablished otter population, as keystone predators of seagrass-eating crabs and other invertebrates, have slowed rates of erosion in Elkhorn Slough over the past few decades when they should be increasing. Eventually, the otter population in Elkhorn Slough reached a natural limit, and MBA has since chosen other location(s) to release otters.\n",
    "\n",
    "The range of sea otters off the coast of California is, for the most part, a limited span from Point Año Nuevo in San Mateo County to Point Conception in Santa Barbara County; these bounds correspond to approximate bounds/ranges of kelp forests and great white sharks. Great white sharks are not predators of sea otters, but despite that, shark bites on otters mistaken for prey are the leading cause of injury and death for wild sea otters in California. Kelp forests provide shelter from sharks, and thus sea otter range ends where the kelp forests end and shark territory begins. Individual sea otters, such as MBA graduate Otter 882, have journeyed past the edge of kelp forests, through shark waters, and into other bays or estuaries; however, a few adventurous individuals are unlikely to lead to a natural reestablishment of otters in other bays or estuaries. As such, many organizations have begun considering otter reestablishment programs in bays/estuaries outside of their current range, such as San Francisco Bay, Drake’s Bay and Estero, and our very own Humboldt Bay. \n"
   ]
  },
  {
   "cell_type": "markdown",
   "id": "8b18197b",
   "metadata": {},
   "source": [
    "### Objective: \n",
    "I seek to analyze the environmental similarities between Elkhorn Slough in Monterey Bay and the bay marshes of Humboldt Bay. My ultimate question is: can we take the rehabilitation-restoration phenomenon seen with sea otters in Elkhorn Slough, and use it to predict a similar success in the wetlands of Humboldt Bay?"
   ]
  },
  {
   "cell_type": "code",
   "execution_count": 1,
   "id": "5e157a53",
   "metadata": {},
   "outputs": [],
   "source": [
    "# need to explain what data is being used and what methods to do so. this will come later\n",
    "# also need to describe approach and how this suits the objective\n",
    "# trying to write a 'how this could help the consumer'/'Benefit' section is making me want to bite my fingers off. \n",
    "# So I am not writing that right now."
   ]
  },
  {
   "cell_type": "markdown",
   "id": "25ca7c4c",
   "metadata": {},
   "source": [
    "### Modules Used:\n",
    "\n",
    "- **numpy**: largely as scaffolding and support for pandas\n",
    "- **pandas**: dataframes \n",
    "- **matplotlib**:\n",
    "    - **matplotlib.pyplot**: largely as scaffolding and support for seaborn\n",
    "    - **matplotlib** and **matplotlib.colors**: just about exclusively for custom color scales, in particular a customized style of heatmap\n",
    "- **seaborn**: main module for graphing\n",
    "- **re** (regular expressions): data cleaning and frankly anything that involves parsing strings"
   ]
  },
  {
   "cell_type": "code",
   "execution_count": 2,
   "id": "3074ea1e",
   "metadata": {},
   "outputs": [],
   "source": [
    "# module importing\n",
    "import numpy as np\n",
    "import pandas as pd\n",
    "import seaborn as sns\n",
    "import matplotlib.pyplot as plt\n",
    "import re\n",
    "\n",
    "\n",
    "# establishing custom heatmap setup\n",
    "import matplotlib as mpl \n",
    "import matplotlib.colors as colors\n",
    "\n",
    "heat = mpl.colormaps['Spectral_r']\n",
    "heat.set_extremes(bad='dimgray', under='dimgray', over='lightgray')\n",
    "\n",
    "def make_norm(matrix):\n",
    "    return colors.SymLogNorm(matrix.unstack().abs().median(),\n",
    "                             base=2,vmin=-0.99999,vmax=0.99999)"
   ]
  },
  {
   "cell_type": "markdown",
   "id": "19782031",
   "metadata": {},
   "source": [
    "### Import the Data\n",
    "ok im a data hoarder so here's what i've got so far, god knows what I'll actually use:\n",
    "- GBIF data for 8 species \n",
    "    - **Original purpose**: it's just out there man. GBIF is a public database aggregating organism occurrence data from like hundreds of sources\n",
    "    - **Collection time**: long ass timespan. this is a time based project which is part of my PROBLEM\n",
    "    - **Number of variables**: With an outer join of all 8 species-specific datasets I have here, up to 197. With a likewise inner join, closer to 112. The majority of these are not relevant to my purposes. \n",
    "    - **Peculiarities**: One of the largest datasources that GBIF includes is iNaturalist. iNaturalist is a wonderful service, but its data has many downfalls. Data from iNaturalist is almost exclusively observations by humans, particularly civilians; so it's greatly influenced by human whims, particularly how *interesting* (and identifiable) an organism is to the human reporter. Additionally, observations for threatened or endangered species have their location automatically obfuscated: the locations for these observations are randomized within a square region. This means that a very high amount of the otter data has location data that's functionally useless.\n",
    "  \n",
    "- Elkhorn Slough nutrient data, from https://cdmo.baruch.sc.edu/\n",
    "    - **Original purpose**: data for the sake of data, as far as I'm concerned\n",
    "    - **Collection time**: lots of it. I got data from around 2002 to 2022 I think\n",
    "    - **Number of variables**: Like 18 but I don't know what to do with almost half of them.\n",
    "    - **Peculiarities**: definitely. \n"
   ]
  },
  {
   "cell_type": "code",
   "execution_count": null,
   "id": "617996a1",
   "metadata": {},
   "outputs": [],
   "source": [
    "# See file `gbif_querying.ipynb` for API querying to acquire GBIF data\n",
    "# See file `gbif_exploratory.ipynb` for cleaning and processing GBIF data\n",
    "# See file `elkhorn_nutrient_exploratory.ipynb` for cleaning and processing CDMO data"
   ]
  }
 ],
 "metadata": {
  "kernelspec": {
   "display_name": "Python 3 (ipykernel)",
   "language": "python",
   "name": "python3"
  },
  "language_info": {
   "codemirror_mode": {
    "name": "ipython",
    "version": 3
   },
   "file_extension": ".py",
   "mimetype": "text/x-python",
   "name": "python",
   "nbconvert_exporter": "python",
   "pygments_lexer": "ipython3",
   "version": "3.10.11"
  }
 },
 "nbformat": 4,
 "nbformat_minor": 5
}
